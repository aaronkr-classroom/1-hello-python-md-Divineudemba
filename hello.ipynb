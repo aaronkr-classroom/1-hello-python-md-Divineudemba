{
 "cells": [
  {
   "cell_type": "markdown",
   "id": "f65363c3",
   "metadata": {},
   "source": [
    "**Hello** _World_ This [Google.com](https://google.com)"
   ]
  },
  {
   "cell_type": "markdown",
   "id": "f56be708",
   "metadata": {},
   "source": [
    "1. Divine\n",
    "2. Goodness\n",
    "3. Precious\n",
    "---"
   ]
  },
  {
   "cell_type": "markdown",
   "id": "0e82f85a",
   "metadata": {},
   "source": [
    "| Type | Desc, | ext |\n",
    "| --- | --- | --- |\n",
    "| JPG | J PORTABLE GRAPHICS |'.jpg'|\n",
    "| PNG | PORTABLE NETWORK GRAPHICS |'.png |"
   ]
  },
  {
   "cell_type": "code",
   "execution_count": 1,
   "id": "80d60b45",
   "metadata": {},
   "outputs": [
    {
     "name": "stdout",
     "output_type": "stream",
     "text": [
      "Divine\n"
     ]
    }
   ],
   "source": [
    "name = \"Divine\"\n",
    "print (name)"
   ]
  },
  {
   "cell_type": "code",
   "execution_count": null,
   "id": "4e90fc0c",
   "metadata": {},
   "outputs": [],
   "source": []
  }
 ],
 "metadata": {
  "kernelspec": {
   "display_name": "Python 3",
   "language": "python",
   "name": "python3"
  },
  "language_info": {
   "codemirror_mode": {
    "name": "ipython",
    "version": 3
   },
   "file_extension": ".py",
   "mimetype": "text/x-python",
   "name": "python",
   "nbconvert_exporter": "python",
   "pygments_lexer": "ipython3",
   "version": "3.12.1"
  }
 },
 "nbformat": 4,
 "nbformat_minor": 5
}
